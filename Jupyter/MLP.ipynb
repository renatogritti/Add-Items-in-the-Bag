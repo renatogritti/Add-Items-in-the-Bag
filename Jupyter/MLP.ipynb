{
 "cells": [
  {
   "cell_type": "code",
   "execution_count": 1,
   "metadata": {},
   "outputs": [],
   "source": [
    "# Import Libraries\n",
    "\n",
    "import pandas as pd\n",
    "import numpy as np\n",
    "import sqlite3\n",
    "from datetime import datetime, timedelta, date\n",
    "from sklearn.neural_network import MLPRegressor\n",
    "import pickle"
   ]
  },
  {
   "cell_type": "code",
   "execution_count": 2,
   "metadata": {},
   "outputs": [],
   "source": [
    "import warnings\n",
    "warnings.filterwarnings(\"ignore\")"
   ]
  },
  {
   "cell_type": "code",
   "execution_count": 29,
   "metadata": {},
   "outputs": [],
   "source": [
    "# Create DFTIME to Fill Empty Dates\n",
    "\n",
    "def yearweek(date):\n",
    "    date = pd.to_datetime(str(date))\n",
    "    return str(date.isocalendar()[0]) + str(date.isocalendar()[1]).zfill(2)\n",
    "\n",
    "def dftime(date, weeks):\n",
    "    delta = timedelta(days = weeks*7)\n",
    "    date = pd.to_datetime(str(date))\n",
    "    date = date - delta\n",
    "    dftime = pd.DataFrame(pd.period_range(start=date, periods=weeks, freq='7D', name = 'Date'))\n",
    "    dftime['yearweek'] = dftime['Date'].apply(lambda x: yearweek(x))\n",
    "    return dftime"
   ]
  },
  {
   "cell_type": "code",
   "execution_count": 17,
   "metadata": {},
   "outputs": [],
   "source": [
    "# Connection data to Database\n",
    "\n",
    "PATH = '/Users/renato/Downloads/Crystalball/'\n",
    "DATABASE_MODEL = 'modelsample.db'\n",
    "MODEL_CSV = 'model.csv'\n",
    "DATABASE_HISTORY = 'purchasehistory.db'\n",
    "DATABASE_CACHE = 'cache.db'\n",
    "USER = 'user'\n",
    "PASSWORD = 'password'\n",
    "PORT = '5432'\n",
    "HOST = '127.0.0.1'"
   ]
  },
  {
   "cell_type": "code",
   "execution_count": 15,
   "metadata": {},
   "outputs": [],
   "source": [
    "# Default Data\n",
    "\n",
    "CPF = '14566178854'"
   ]
  },
  {
   "cell_type": "code",
   "execution_count": 6,
   "metadata": {},
   "outputs": [],
   "source": [
    "def get_data(cpf):\n",
    "    try:\n",
    "        connection = PATH + DATABASE_HISTORY\n",
    "        sqliteConnection = sqlite3.connect(connection)\n",
    "        cursor = sqliteConnection.cursor()\n",
    "        sqlite_select_query = \"\"\"SELECT * from history_purchase where cpf = \"\"\" + cpf\n",
    "        cursor.execute(sqlite_select_query)\n",
    "        records = cursor.fetchall()\n",
    "        records = pd.DataFrame(records)\n",
    "        records.columns = ['cpf', 'date1', 'prod_id', 'qtde']\n",
    "        records['date'] =  pd.to_datetime(records['date1'],  format='%Y-%m-%d' )\n",
    "        records = records.drop('date1', 1)\n",
    "\n",
    "        cursor.close()\n",
    "        \n",
    "        return(records)\n",
    "\n",
    "    except sqlite3.Error as error:\n",
    "        print(\"Failed to read data from sqlite table\", error)\n",
    "    finally:\n",
    "        if (sqliteConnection):\n",
    "            sqliteConnection.close()"
   ]
  },
  {
   "cell_type": "code",
   "execution_count": 58,
   "metadata": {},
   "outputs": [],
   "source": [
    "# Feature Engineering\n",
    "\n",
    "def feature_engineering(df,date_forecast):\n",
    "\n",
    "    \n",
    "    #Load Model\n",
    "    file = open(PATH+'MLP.dat', 'rb')\n",
    "    model = pickle.load(file)\n",
    "    file.close()\n",
    "    \n",
    "    \n",
    "    # DataFrame for Loop\n",
    "    dfloop = df.groupby(['prod_id'], as_index=False)['qtde'].count()\n",
    "                \n",
    "    \n",
    "    #Iteract for product\n",
    "    for i, r in dfloop.iterrows():\n",
    "        # Filtrar Item_id em um novo DF\n",
    "        dffilter = df[df['prod_id'] == r['prod_id']]\n",
    "\n",
    "        #incluir campo ano/semana\n",
    "        dffilter['yearweek'] = dffilter['date'].apply(lambda x: yearweek(x))\n",
    "        #dffilter.set_index('yearweek', inplace = True)\n",
    "        dfsoma = dffilter.groupby(['yearweek','prod_id'], as_index=False)['qtde'].sum()\n",
    "        \n",
    "        #Incluir dfmerge para semanas sem compras\n",
    "        date = pd.to_datetime(str(date_forecast))\n",
    "        dftempo = dftime(date, 8)\n",
    "        dftempo.set_index('yearweek', inplace = True)\n",
    "\n",
    "        # merge data\n",
    "        dfsoma.set_index('yearweek', inplace = True)\n",
    "        dfmerge = pd.concat([dfsoma,dftempo], axis=1)\n",
    "        dfmerge['qtde'] = dfmerge['qtde'].fillna(0)\n",
    "        print(dfmerge)\n",
    "        \n",
    "        #Colocar lags\n",
    "        data = [dfmerge.iloc[-1,1], dfmerge.iloc[-2,1], dfmerge.iloc[-3,1], dfmerge.iloc[-4,1], dfmerge.iloc[-5,1], dfmerge.iloc[-6,1], dfmerge.iloc[-7,1], dfmerge.iloc[-8,1]]\n",
    "        print(data)\n",
    "\n",
    "        data = [data]\n",
    "        result = model.predict(data)\n",
    "        \n",
    "        print(r['prod_id'])\n",
    "        print(round(result[0],0))"
   ]
  },
  {
   "cell_type": "code",
   "execution_count": 60,
   "metadata": {},
   "outputs": [
    {
     "output_type": "stream",
     "name": "stdout",
     "text": "prod_id  qtde        Date\n201945      101     1         NaT\n201946      101     1         NaT\n201947      101     1         NaT\n201948      101     1         NaT\n201949      101     1         NaT\n201950      101     1         NaT\n201951      101     1         NaT\n201952      101     1         NaT\n202001      101     1         NaT\n202002      101     1         NaT\n202003      101     1         NaT\n202004      101     1         NaT\n202005      101     1         NaT\n202006      101     1         NaT\n202007      101     1         NaT\n202008      101     1         NaT\n202009      101     1  2020-02-24\n202010      101     1  2020-03-02\n202011      101     1  2020-03-09\n202012      101     1  2020-03-16\n202013      101     1  2020-03-23\n202014      101     1  2020-03-30\n202015      101     1  2020-04-06\n202016      101     1  2020-04-13\n[1, 1, 1, 1, 1, 1, 1, 1]\n101\n1.0\n        prod_id  qtde        Date\n201945    102.0   2.0         NaT\n201947    102.0   2.0         NaT\n201949    102.0   2.0         NaT\n201951    102.0   2.0         NaT\n202001    102.0   2.0         NaT\n202003    102.0   2.0         NaT\n202005    102.0   2.0         NaT\n202007    102.0   2.0         NaT\n202009    102.0   2.0  2020-02-24\n202010      NaN   0.0  2020-03-02\n202011    102.0   2.0  2020-03-09\n202012      NaN   0.0  2020-03-16\n202013    102.0   2.0  2020-03-23\n202014      NaN   0.0  2020-03-30\n202015    102.0   2.0  2020-04-06\n202016      NaN   0.0  2020-04-13\n[0.0, 2.0, 0.0, 2.0, 0.0, 2.0, 0.0, 2.0]\n102\n2.0\n        prod_id  qtde        Date\n201945    104.0   4.0         NaT\n201949    104.0   4.0         NaT\n202001    104.0   4.0         NaT\n202005    104.0   4.0         NaT\n202009    104.0   4.0  2020-02-24\n202010      NaN   0.0  2020-03-02\n202011      NaN   0.0  2020-03-09\n202012      NaN   0.0  2020-03-16\n202013    104.0   4.0  2020-03-23\n202014      NaN   0.0  2020-03-30\n202015      NaN   0.0  2020-04-06\n202016      NaN   0.0  2020-04-13\n[0.0, 0.0, 0.0, 4.0, 0.0, 0.0, 0.0, 4.0]\n104\n4.0\n        prod_id  qtde        Date\n202009    108.0   1.0  2020-02-24\n202010      NaN   0.0  2020-03-02\n202011    108.0   2.0  2020-03-09\n202012      NaN   0.0  2020-03-16\n202013    108.0   4.0  2020-03-23\n202014      NaN   0.0  2020-03-30\n202015    108.0   6.0  2020-04-06\n202016      NaN   0.0  2020-04-13\n[0.0, 6.0, 0.0, 4.0, 0.0, 2.0, 0.0, 1.0]\n108\n8.0\n          prod_id  qtde        Date\nyearweek                           \n202009        109     1  2020-02-24\n202010        109     2  2020-03-02\n202011        109     3  2020-03-09\n202012        109     4  2020-03-16\n202013        109     5  2020-03-23\n202014        109     6  2020-03-30\n202015        109     7  2020-04-06\n202016        109     8  2020-04-13\n[8, 7, 6, 5, 4, 3, 2, 1]\n109\n3.0\n        prod_id  qtde        Date\n201947    130.0   3.0         NaT\n201951    130.0   3.0         NaT\n202003    130.0   3.0         NaT\n202007    130.0   3.0         NaT\n202009      NaN   0.0  2020-02-24\n202010      NaN   0.0  2020-03-02\n202011    130.0   3.0  2020-03-09\n202012      NaN   0.0  2020-03-16\n202013      NaN   0.0  2020-03-23\n202014      NaN   0.0  2020-03-30\n202015    130.0   3.0  2020-04-06\n202016      NaN   0.0  2020-04-13\n[0.0, 3.0, 0.0, 0.0, 0.0, 3.0, 0.0, 0.0]\n130\n0.0\n        prod_id  qtde        Date\n201945    200.0   9.0         NaT\n201946    200.0   8.0         NaT\n201947    200.0   7.0         NaT\n201948    200.0   6.0         NaT\n201949    200.0   5.0         NaT\n201950    200.0   4.0         NaT\n201951    200.0   3.0         NaT\n201952    200.0   2.0         NaT\n202001    200.0   1.0         NaT\n202009      NaN   0.0  2020-02-24\n202010      NaN   0.0  2020-03-02\n202011      NaN   0.0  2020-03-09\n202012      NaN   0.0  2020-03-16\n202013      NaN   0.0  2020-03-23\n202014      NaN   0.0  2020-03-30\n202015      NaN   0.0  2020-04-06\n202016      NaN   0.0  2020-04-13\n[0.0, 0.0, 0.0, 0.0, 0.0, 0.0, 0.0, 0.0]\n200\n0.0\n        prod_id  qtde        Date\n201945      202     1         NaT\n201946      202     1         NaT\n201947      202     1         NaT\n201948      202     1         NaT\n201949      202     1         NaT\n201950      202     1         NaT\n201951      202     1         NaT\n201952      202     1         NaT\n202001      202     1         NaT\n202002      202     1         NaT\n202003      202     1         NaT\n202004      202     1         NaT\n202005      202     1         NaT\n202006      202     1         NaT\n202007      202     1         NaT\n202008      202     1         NaT\n202009      202     1  2020-02-24\n202010      202     1  2020-03-02\n202011      202     1  2020-03-09\n202012      202     1  2020-03-16\n202013      202     2  2020-03-23\n202014      202     2  2020-03-30\n202015      202     2  2020-04-06\n202016      202     2  2020-04-13\n[2, 2, 2, 2, 1, 1, 1, 1]\n202\n2.0\n        prod_id  qtde        Date\n202008      300     9         NaT\n202009      300     8  2020-02-24\n202010      300     7  2020-03-02\n202011      300     6  2020-03-09\n202012      300     5  2020-03-16\n202013      300     4  2020-03-23\n202014      300     3  2020-03-30\n202015      300     2  2020-04-06\n202016      300     1  2020-04-13\n[1, 2, 3, 4, 5, 6, 7, 8]\n300\n0.0\n        prod_id  qtde        Date\n202009    303.0   3.0  2020-02-24\n202010      NaN   0.0  2020-03-02\n202011    303.0   3.0  2020-03-09\n202012      NaN   0.0  2020-03-16\n202013    303.0   3.0  2020-03-23\n202014      NaN   0.0  2020-03-30\n202015    303.0   3.0  2020-04-06\n202016      NaN   0.0  2020-04-13\n[0.0, 3.0, 0.0, 3.0, 0.0, 3.0, 0.0, 3.0]\n303\n2.0\n        prod_id  qtde        Date\n202007    304.0   4.0         NaT\n202009    304.0   4.0  2020-02-24\n202010      NaN   0.0  2020-03-02\n202011    304.0   4.0  2020-03-09\n202012      NaN   0.0  2020-03-16\n202013      NaN   0.0  2020-03-23\n202014    304.0   4.0  2020-03-30\n202015      NaN   0.0  2020-04-06\n202016      NaN   0.0  2020-04-13\n[0.0, 0.0, 4.0, 0.0, 0.0, 4.0, 0.0, 4.0]\n304\n0.0\n"
    }
   ],
   "source": [
    "\n",
    "df = get_data (CPF)\n",
    "engdata = feature_engineering(df, '2020-04-20')\n",
    "#retorno = save_data(engdata)\n",
    "#retorno"
   ]
  },
  {
   "cell_type": "code",
   "execution_count": null,
   "metadata": {},
   "outputs": [],
   "source": []
  }
 ],
 "metadata": {
  "kernelspec": {
   "display_name": "Python 3",
   "language": "python",
   "name": "python3"
  },
  "language_info": {
   "codemirror_mode": {
    "name": "ipython",
    "version": 3
   },
   "file_extension": ".py",
   "mimetype": "text/x-python",
   "name": "python",
   "nbconvert_exporter": "python",
   "pygments_lexer": "ipython3",
   "version": "3.7.6-final"
  }
 },
 "nbformat": 4,
 "nbformat_minor": 4
}