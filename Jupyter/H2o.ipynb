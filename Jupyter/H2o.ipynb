{
 "cells": [
  {
   "cell_type": "code",
   "execution_count": 1,
   "metadata": {},
   "outputs": [],
   "source": [
    "# Import Libraries\n",
    "\n",
    "import pandas as pd\n",
    "import numpy as np\n",
    "import sqlite3\n",
    "from datetime import datetime, timedelta, date\n",
    "import h2o"
   ]
  },
  {
   "cell_type": "code",
   "execution_count": 2,
   "metadata": {},
   "outputs": [],
   "source": [
    "# Create DF to Fill Empty Dates - Não Precisa\n",
    "\n",
    "def set_hour(date1):\n",
    "  day1 = datetime(date1.year, date1.month, date1.day,0,0,0)\n",
    "  return day1\n",
    "\n",
    "dftime = pd.DataFrame(pd.period_range(start=datetime(2019,11,4,0,0,0), periods=24, freq='7D1H', name = 'Date1'))\n",
    "dftime['date'] = dftime['Date1'].apply(lambda x: set_hour(x))\n",
    "dftime = dftime.drop('Date1', 1)\n",
    "dftime.set_index('date', inplace = True)"
   ]
  },
  {
   "cell_type": "code",
   "execution_count": 3,
   "metadata": {},
   "outputs": [],
   "source": [
    "# Connection data to Database\n",
    "\n",
    "PATH = '/Users/renato/Downloads/Crystalball/'\n",
    "DATABASE_MODEL = 'modelsample.db'\n",
    "MODEL_CSV = 'model.csv'\n",
    "DATABASE_HISTORY = 'history.db'\n",
    "DATABASE_CACHE = 'cache.db'\n",
    "USER = 'user'\n",
    "PASSWORD = 'password'\n",
    "PORT = '5432'\n",
    "HOST = '127.0.0.1'"
   ]
  },
  {
   "cell_type": "code",
   "execution_count": 4,
   "metadata": {},
   "outputs": [],
   "source": [
    "# Default Data\n",
    "\n",
    "CPF = '14566178854'"
   ]
  },
  {
   "cell_type": "code",
   "execution_count": 5,
   "metadata": {},
   "outputs": [],
   "source": [
    "def get_data(cpf):\n",
    "    try:\n",
    "        connection = PATH + DATABASE_HISTORY\n",
    "        sqliteConnection = sqlite3.connect(connection)\n",
    "        cursor = sqliteConnection.cursor()\n",
    "        sqlite_select_query = \"\"\"SELECT * from history_purchase where cpf = \"\"\" + cpf\n",
    "        cursor.execute(sqlite_select_query)\n",
    "        records = cursor.fetchall()\n",
    "        records = pd.DataFrame(records)\n",
    "        records.columns = ['cpf', 'date1', 'prod_id', 'qtde']\n",
    "        records['date'] =  pd.to_datetime(records['date1'],  format='%Y-%m-%d' )\n",
    "        records = records.drop('date1', 1)\n",
    "\n",
    "        cursor.close()\n",
    "        \n",
    "        return(records)\n",
    "\n",
    "    except sqlite3.Error as error:\n",
    "        print(\"Failed to read data from sqlite table\", error)\n",
    "    finally:\n",
    "        if (sqliteConnection):\n",
    "            sqliteConnection.close()"
   ]
  },
  {
   "cell_type": "code",
   "execution_count": 40,
   "metadata": {},
   "outputs": [],
   "source": [
    "# Feature Engineering\n",
    "\n",
    "def feature_engineering(df):\n",
    "\n",
    "    \n",
    "    #Load Model\n",
    "    localmodelo = PATH + \"h2omodel.dat\"\n",
    "    model = h2o.load_model(localmodelo)\n",
    "    \n",
    "    \n",
    "    # DataFrame for Loop\n",
    "    dfloop = df.groupby(['prod_id'], as_index=False)['qtde'].count()\n",
    "    dfloop\n",
    "\n",
    "    data = pd.DataFrame()\n",
    "    data['qtde'] = 1\n",
    "    data['lag1'] = 2\n",
    "    data['lag2'] = 3\n",
    "    data['lag3'] = 4\n",
    "    data['lag4'] = 5\n",
    "    data['lag5'] = 5\n",
    "    data['lag6'] = 7\n",
    "    data['lag7'] = 8\n",
    "    data['lag8'] = 9\n",
    "                \n",
    "    \n",
    "    #Iteract for product\n",
    "    for i, r in dfloop.iterrows():\n",
    "        # Filtrar Item_id em um novo DF\n",
    "        dffilter = df[df['prod_id'] == r['prod_id']]\n",
    "\n",
    "        # merge data\n",
    "        dffilter['date1'] = dffilter['date']\n",
    "        dffilter.set_index('date', inplace = True)\n",
    "        dfmerge = pd.concat([dffilter,dftime], axis=1)\n",
    "        dfmerge['date1'] = dfmerge.index\n",
    "        dfmerge['cpf'] = CPF\n",
    "        dfmerge['prod_id'] = r['prod_id']\n",
    "        dfmerge = dfmerge.fillna(0)\n",
    "\n",
    "        \n",
    "        #Colocar lags\n",
    "        dfmerge['qtde'] = dfmerge['qtde']\n",
    "        dfmerge['lag1'] = dfmerge['qtde']\n",
    "        dfmerge['lag2'] = dfmerge.qtde.shift(1)\n",
    "        dfmerge['lag3'] = dfmerge.qtde.shift(2)\n",
    "        dfmerge['lag4'] = dfmerge.qtde.shift(3)\n",
    "        dfmerge['lag5'] = dfmerge.qtde.shift(4)\n",
    "        dfmerge['lag6'] = dfmerge.qtde.shift(5)\n",
    "        dfmerge['lag7'] = dfmerge.qtde.shift(6)\n",
    "        dfmerge['lag8'] = dfmerge.qtde.shift(7)\n",
    "        dfmerge = dfmerge.dropna()\n",
    "\n",
    "        \n",
    "        #Drop Columns\n",
    "        dfmerge = dfmerge.drop('cpf', 1)\n",
    "        dfmerge = dfmerge.drop('prod_id', 1)\n",
    "        dfmerge = dfmerge.drop('date1', 1)\n",
    "        \n",
    "        # Salvar previsão em DF\n",
    "        dfmerge = [dfmerge.iloc[-1,:]]\n",
    "        data = pd.DataFrame(dfmerge)\n",
    "        print(data)\n",
    "        h2o_df = h2o.H2OFrame(data)\n",
    "        pred = model.predict(h2o_df)\n",
    "        predict = pred.as_data_frame()\n",
    "        \n",
    "        print(predict)"
   ]
  },
  {
   "cell_type": "code",
   "execution_count": 41,
   "metadata": {},
   "outputs": [
    {
     "name": "stdout",
     "output_type": "stream",
     "text": [
      "Checking whether there is an H2O instance running at http://localhost:54321 . connected.\n"
     ]
    },
    {
     "data": {
      "text/html": [
       "<div style=\"overflow:auto\"><table style=\"width:50%\"><tr><td>H2O_cluster_uptime:</td>\n",
       "<td>8 mins 52 secs</td></tr>\n",
       "<tr><td>H2O_cluster_timezone:</td>\n",
       "<td>America/Sao_Paulo</td></tr>\n",
       "<tr><td>H2O_data_parsing_timezone:</td>\n",
       "<td>UTC</td></tr>\n",
       "<tr><td>H2O_cluster_version:</td>\n",
       "<td>3.30.0.1</td></tr>\n",
       "<tr><td>H2O_cluster_version_age:</td>\n",
       "<td>20 days </td></tr>\n",
       "<tr><td>H2O_cluster_name:</td>\n",
       "<td>H2O_from_python_renato_uzadot</td></tr>\n",
       "<tr><td>H2O_cluster_total_nodes:</td>\n",
       "<td>1</td></tr>\n",
       "<tr><td>H2O_cluster_free_memory:</td>\n",
       "<td>1.999 Gb</td></tr>\n",
       "<tr><td>H2O_cluster_total_cores:</td>\n",
       "<td>4</td></tr>\n",
       "<tr><td>H2O_cluster_allowed_cores:</td>\n",
       "<td>4</td></tr>\n",
       "<tr><td>H2O_cluster_status:</td>\n",
       "<td>locked, healthy</td></tr>\n",
       "<tr><td>H2O_connection_url:</td>\n",
       "<td>http://localhost:54321</td></tr>\n",
       "<tr><td>H2O_connection_proxy:</td>\n",
       "<td>{\"http\": null, \"https\": null}</td></tr>\n",
       "<tr><td>H2O_internal_security:</td>\n",
       "<td>False</td></tr>\n",
       "<tr><td>H2O_API_Extensions:</td>\n",
       "<td>Amazon S3, XGBoost, Algos, AutoML, Core V3, TargetEncoder, Core V4</td></tr>\n",
       "<tr><td>Python_version:</td>\n",
       "<td>3.7.6 final</td></tr></table></div>"
      ],
      "text/plain": [
       "--------------------------  ------------------------------------------------------------------\n",
       "H2O_cluster_uptime:         8 mins 52 secs\n",
       "H2O_cluster_timezone:       America/Sao_Paulo\n",
       "H2O_data_parsing_timezone:  UTC\n",
       "H2O_cluster_version:        3.30.0.1\n",
       "H2O_cluster_version_age:    20 days\n",
       "H2O_cluster_name:           H2O_from_python_renato_uzadot\n",
       "H2O_cluster_total_nodes:    1\n",
       "H2O_cluster_free_memory:    1.999 Gb\n",
       "H2O_cluster_total_cores:    4\n",
       "H2O_cluster_allowed_cores:  4\n",
       "H2O_cluster_status:         locked, healthy\n",
       "H2O_connection_url:         http://localhost:54321\n",
       "H2O_connection_proxy:       {\"http\": null, \"https\": null}\n",
       "H2O_internal_security:      False\n",
       "H2O_API_Extensions:         Amazon S3, XGBoost, Algos, AutoML, Core V3, TargetEncoder, Core V4\n",
       "Python_version:             3.7.6 final\n",
       "--------------------------  ------------------------------------------------------------------"
      ]
     },
     "metadata": {},
     "output_type": "display_data"
    },
    {
     "name": "stderr",
     "output_type": "stream",
     "text": [
      "/Volumes/Dados/Users/renato/anaconda3/envs/dev_phyton/lib/python3.7/site-packages/ipykernel_launcher.py:33: SettingWithCopyWarning: \n",
      "A value is trying to be set on a copy of a slice from a DataFrame.\n",
      "Try using .loc[row_indexer,col_indexer] = value instead\n",
      "\n",
      "See the caveats in the documentation: https://pandas.pydata.org/pandas-docs/stable/user_guide/indexing.html#returning-a-view-versus-a-copy\n"
     ]
    },
    {
     "name": "stdout",
     "output_type": "stream",
     "text": [
      "            qtde  lag1  lag2  lag3  lag4  lag5  lag6  lag7  lag8\n",
      "2020-04-13   1.0   1.0   1.0   1.0   1.0   1.0   1.0   1.0   1.0\n",
      "Parse progress: |█████████████████████████████████████████████████████████| 100%\n",
      "deeplearning prediction progress: |███████████████████████████████████████| 100%\n",
      "    predict\n",
      "0  1.007617\n"
     ]
    },
    {
     "name": "stderr",
     "output_type": "stream",
     "text": [
      "/Volumes/Dados/Users/renato/anaconda3/envs/dev_phyton/lib/python3.7/site-packages/ipykernel_launcher.py:33: SettingWithCopyWarning: \n",
      "A value is trying to be set on a copy of a slice from a DataFrame.\n",
      "Try using .loc[row_indexer,col_indexer] = value instead\n",
      "\n",
      "See the caveats in the documentation: https://pandas.pydata.org/pandas-docs/stable/user_guide/indexing.html#returning-a-view-versus-a-copy\n"
     ]
    },
    {
     "name": "stdout",
     "output_type": "stream",
     "text": [
      "            qtde  lag1  lag2  lag3  lag4  lag5  lag6  lag7  lag8\n",
      "2020-04-13   0.0   0.0   2.0   0.0   2.0   0.0   2.0   0.0   2.0\n",
      "Parse progress: |█████████████████████████████████████████████████████████| 100%\n",
      "deeplearning prediction progress: |███████████████████████████████████████| 100%\n",
      "   predict\n",
      "0   2.0694\n"
     ]
    },
    {
     "name": "stderr",
     "output_type": "stream",
     "text": [
      "/Volumes/Dados/Users/renato/anaconda3/envs/dev_phyton/lib/python3.7/site-packages/ipykernel_launcher.py:33: SettingWithCopyWarning: \n",
      "A value is trying to be set on a copy of a slice from a DataFrame.\n",
      "Try using .loc[row_indexer,col_indexer] = value instead\n",
      "\n",
      "See the caveats in the documentation: https://pandas.pydata.org/pandas-docs/stable/user_guide/indexing.html#returning-a-view-versus-a-copy\n"
     ]
    },
    {
     "name": "stdout",
     "output_type": "stream",
     "text": [
      "            qtde  lag1  lag2  lag3  lag4  lag5  lag6  lag7  lag8\n",
      "2020-04-13   0.0   0.0   0.0   0.0   4.0   0.0   0.0   0.0   4.0\n",
      "Parse progress: |█████████████████████████████████████████████████████████| 100%\n",
      "deeplearning prediction progress: |███████████████████████████████████████| 100%\n",
      "    predict\n",
      "0  3.995799\n"
     ]
    },
    {
     "name": "stderr",
     "output_type": "stream",
     "text": [
      "/Volumes/Dados/Users/renato/anaconda3/envs/dev_phyton/lib/python3.7/site-packages/ipykernel_launcher.py:33: SettingWithCopyWarning: \n",
      "A value is trying to be set on a copy of a slice from a DataFrame.\n",
      "Try using .loc[row_indexer,col_indexer] = value instead\n",
      "\n",
      "See the caveats in the documentation: https://pandas.pydata.org/pandas-docs/stable/user_guide/indexing.html#returning-a-view-versus-a-copy\n"
     ]
    },
    {
     "name": "stdout",
     "output_type": "stream",
     "text": [
      "            qtde  lag1  lag2  lag3  lag4  lag5  lag6  lag7  lag8\n",
      "2020-04-13   0.0   0.0   6.0   0.0   4.0   0.0   2.0   0.0   1.0\n",
      "Parse progress: |█████████████████████████████████████████████████████████| 100%\n",
      "deeplearning prediction progress: |███████████████████████████████████████| 100%\n",
      "    predict\n",
      "0  2.413904\n"
     ]
    },
    {
     "name": "stderr",
     "output_type": "stream",
     "text": [
      "/Volumes/Dados/Users/renato/anaconda3/envs/dev_phyton/lib/python3.7/site-packages/ipykernel_launcher.py:33: SettingWithCopyWarning: \n",
      "A value is trying to be set on a copy of a slice from a DataFrame.\n",
      "Try using .loc[row_indexer,col_indexer] = value instead\n",
      "\n",
      "See the caveats in the documentation: https://pandas.pydata.org/pandas-docs/stable/user_guide/indexing.html#returning-a-view-versus-a-copy\n"
     ]
    },
    {
     "name": "stdout",
     "output_type": "stream",
     "text": [
      "            qtde  lag1  lag2  lag3  lag4  lag5  lag6  lag7  lag8\n",
      "2020-04-13   8.0   8.0   7.0   6.0   5.0   4.0   3.0   2.0   1.0\n",
      "Parse progress: |█████████████████████████████████████████████████████████| 100%\n",
      "deeplearning prediction progress: |███████████████████████████████████████| 100%\n",
      "    predict\n",
      "0  7.545974\n"
     ]
    },
    {
     "name": "stderr",
     "output_type": "stream",
     "text": [
      "/Volumes/Dados/Users/renato/anaconda3/envs/dev_phyton/lib/python3.7/site-packages/ipykernel_launcher.py:33: SettingWithCopyWarning: \n",
      "A value is trying to be set on a copy of a slice from a DataFrame.\n",
      "Try using .loc[row_indexer,col_indexer] = value instead\n",
      "\n",
      "See the caveats in the documentation: https://pandas.pydata.org/pandas-docs/stable/user_guide/indexing.html#returning-a-view-versus-a-copy\n"
     ]
    },
    {
     "name": "stdout",
     "output_type": "stream",
     "text": [
      "            qtde  lag1  lag2  lag3  lag4  lag5  lag6  lag7  lag8\n",
      "2020-04-13   0.0   0.0   3.0   0.0   0.0   0.0   3.0   0.0   0.0\n",
      "Parse progress: |█████████████████████████████████████████████████████████| 100%\n",
      "deeplearning prediction progress: |███████████████████████████████████████| 100%\n",
      "    predict\n",
      "0  0.034871\n"
     ]
    },
    {
     "name": "stderr",
     "output_type": "stream",
     "text": [
      "/Volumes/Dados/Users/renato/anaconda3/envs/dev_phyton/lib/python3.7/site-packages/ipykernel_launcher.py:33: SettingWithCopyWarning: \n",
      "A value is trying to be set on a copy of a slice from a DataFrame.\n",
      "Try using .loc[row_indexer,col_indexer] = value instead\n",
      "\n",
      "See the caveats in the documentation: https://pandas.pydata.org/pandas-docs/stable/user_guide/indexing.html#returning-a-view-versus-a-copy\n"
     ]
    },
    {
     "name": "stdout",
     "output_type": "stream",
     "text": [
      "            qtde  lag1  lag2  lag3  lag4  lag5  lag6  lag7  lag8\n",
      "2020-04-13   0.0   0.0   0.0   0.0   0.0   0.0   0.0   0.0   0.0\n",
      "Parse progress: |█████████████████████████████████████████████████████████| 100%\n",
      "deeplearning prediction progress: |███████████████████████████████████████| 100%\n",
      "    predict\n",
      "0  0.211238\n"
     ]
    },
    {
     "name": "stderr",
     "output_type": "stream",
     "text": [
      "/Volumes/Dados/Users/renato/anaconda3/envs/dev_phyton/lib/python3.7/site-packages/ipykernel_launcher.py:33: SettingWithCopyWarning: \n",
      "A value is trying to be set on a copy of a slice from a DataFrame.\n",
      "Try using .loc[row_indexer,col_indexer] = value instead\n",
      "\n",
      "See the caveats in the documentation: https://pandas.pydata.org/pandas-docs/stable/user_guide/indexing.html#returning-a-view-versus-a-copy\n"
     ]
    },
    {
     "name": "stdout",
     "output_type": "stream",
     "text": [
      "            qtde  lag1  lag2  lag3  lag4  lag5  lag6  lag7  lag8\n",
      "2020-04-13   2.0   2.0   2.0   2.0   2.0   1.0   1.0   1.0   1.0\n",
      "Parse progress: |█████████████████████████████████████████████████████████| 100%\n",
      "deeplearning prediction progress: |███████████████████████████████████████| 100%\n",
      "    predict\n",
      "0  2.285817\n"
     ]
    },
    {
     "name": "stderr",
     "output_type": "stream",
     "text": [
      "/Volumes/Dados/Users/renato/anaconda3/envs/dev_phyton/lib/python3.7/site-packages/ipykernel_launcher.py:33: SettingWithCopyWarning: \n",
      "A value is trying to be set on a copy of a slice from a DataFrame.\n",
      "Try using .loc[row_indexer,col_indexer] = value instead\n",
      "\n",
      "See the caveats in the documentation: https://pandas.pydata.org/pandas-docs/stable/user_guide/indexing.html#returning-a-view-versus-a-copy\n"
     ]
    },
    {
     "name": "stdout",
     "output_type": "stream",
     "text": [
      "            qtde  lag1  lag2  lag3  lag4  lag5  lag6  lag7  lag8\n",
      "2020-04-13   1.0   1.0   2.0   3.0   4.0   5.0   6.0   7.0   8.0\n",
      "Parse progress: |█████████████████████████████████████████████████████████| 100%\n",
      "deeplearning prediction progress: |███████████████████████████████████████| 100%\n",
      "    predict\n",
      "0  0.222349\n"
     ]
    },
    {
     "name": "stderr",
     "output_type": "stream",
     "text": [
      "/Volumes/Dados/Users/renato/anaconda3/envs/dev_phyton/lib/python3.7/site-packages/ipykernel_launcher.py:33: SettingWithCopyWarning: \n",
      "A value is trying to be set on a copy of a slice from a DataFrame.\n",
      "Try using .loc[row_indexer,col_indexer] = value instead\n",
      "\n",
      "See the caveats in the documentation: https://pandas.pydata.org/pandas-docs/stable/user_guide/indexing.html#returning-a-view-versus-a-copy\n"
     ]
    },
    {
     "name": "stdout",
     "output_type": "stream",
     "text": [
      "            qtde  lag1  lag2  lag3  lag4  lag5  lag6  lag7  lag8\n",
      "2020-04-13   0.0   0.0   3.0   0.0   3.0   0.0   3.0   0.0   3.0\n",
      "Parse progress: |█████████████████████████████████████████████████████████| 100%\n",
      "deeplearning prediction progress: |███████████████████████████████████████| 100%\n",
      "    predict\n",
      "0  1.976483\n"
     ]
    },
    {
     "name": "stderr",
     "output_type": "stream",
     "text": [
      "/Volumes/Dados/Users/renato/anaconda3/envs/dev_phyton/lib/python3.7/site-packages/ipykernel_launcher.py:33: SettingWithCopyWarning: \n",
      "A value is trying to be set on a copy of a slice from a DataFrame.\n",
      "Try using .loc[row_indexer,col_indexer] = value instead\n",
      "\n",
      "See the caveats in the documentation: https://pandas.pydata.org/pandas-docs/stable/user_guide/indexing.html#returning-a-view-versus-a-copy\n"
     ]
    },
    {
     "name": "stdout",
     "output_type": "stream",
     "text": [
      "            qtde  lag1  lag2  lag3  lag4  lag5  lag6  lag7  lag8\n",
      "2020-04-13   0.0   0.0   0.0   4.0   0.0   0.0   4.0   0.0   4.0\n",
      "Parse progress: |█████████████████████████████████████████████████████████| 100%\n",
      "deeplearning prediction progress: |███████████████████████████████████████| 100%\n",
      "    predict\n",
      "0 -0.732191\n"
     ]
    }
   ],
   "source": [
    "h2o.init()\n",
    "\n",
    "\n",
    "df = get_data (CPF)\n",
    "engdata = feature_engineering(df)\n",
    "#retorno = save_data(engdata)\n",
    "#retorno"
   ]
  },
  {
   "cell_type": "code",
   "execution_count": null,
   "metadata": {},
   "outputs": [],
   "source": []
  }
 ],
 "metadata": {
  "kernelspec": {
   "display_name": "Python 3",
   "language": "python",
   "name": "python3"
  },
  "language_info": {
   "codemirror_mode": {
    "name": "ipython",
    "version": 3
   },
   "file_extension": ".py",
   "mimetype": "text/x-python",
   "name": "python",
   "nbconvert_exporter": "python",
   "pygments_lexer": "ipython3",
   "version": "3.7.6"
  }
 },
 "nbformat": 4,
 "nbformat_minor": 4
}
