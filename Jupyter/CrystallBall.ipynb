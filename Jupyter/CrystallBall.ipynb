{
 "cells": [
  {
   "cell_type": "code",
   "execution_count": 13,
   "metadata": {},
   "outputs": [],
   "source": [
    "# Import Libraries\n",
    "\n",
    "import pandas as pd\n",
    "import numpy as np\n",
    "\n",
    "import sqlite3\n",
    "from datetime import datetime, timedelta, date\n",
    "from pmdarima.arima import auto_arima\n",
    "from fbprophet import Prophet\n",
    "\n",
    "from config import *"
   ]
  },
  {
   "cell_type": "code",
   "execution_count": 1,
   "metadata": {},
   "outputs": [],
   "source": [
    "# Setup logging\n",
    "\n",
    "import logging\n",
    "logging.basicConfig(filename='crystalball.log', level= logging.ERROR)"
   ]
  },
  {
   "cell_type": "code",
   "execution_count": 17,
   "metadata": {},
   "outputs": [],
   "source": [
    "# Create DF to Fill Empty Dates - Não Precisa\n",
    "\n",
    "#def set_hour(date1):\n",
    "#  day1 = datetime(date1.year, date1.month, date1.day,0,0,0)\n",
    "#  return day1\n",
    "\n",
    "#dftime = pd.DataFrame(pd.period_range(start=datetime(2019,11,4,0,0,0), periods=24, freq='7D1H', name = 'Date1'))\n",
    "#dftime['Date'] = dftime['Date1'].apply(lambda x: set_hour(x))\n",
    "#dftime = dftime.drop('Date1', 1)\n",
    "#dftime.set_index('Date', inplace = True)"
   ]
  },
  {
   "cell_type": "code",
   "execution_count": 18,
   "metadata": {},
   "outputs": [],
   "source": [
    "# Default Data\n",
    "\n",
    "CPF = '14566178854'\n"
   ]
  },
  {
   "cell_type": "code",
   "execution_count": 2,
   "metadata": {},
   "outputs": [],
   "source": [
    "def get_history(cpf):\n",
    "    try:\n",
    "        connection = PATH + DATABASE_HISTORY\n",
    "        sqliteConnection = sqlite3.connect(connection)\n",
    "        cursor = sqliteConnection.cursor()\n",
    "        sqlite_select_query = \"\"\"SELECT * from history_purchase where cpf = \"\"\" + cpf\n",
    "        cursor.execute(sqlite_select_query)\n",
    "        records = cursor.fetchall()\n",
    "        records = pd.DataFrame(records)\n",
    "        records.columns = ['cpf', 'date1', 'prod_id', 'qtde']\n",
    "        records['date'] =  pd.to_datetime(records['date1'],  format='%Y-%m-%d' )\n",
    "        records = records.drop('date1', 1)\n",
    "\n",
    "        cursor.close()\n",
    "        \n",
    "        return(records)\n",
    "\n",
    "    except sqlite3.Error as error:\n",
    "        logging.error( datetime.now + \"Crystalball \" + \"Failed to read data from sqlite table\")\n",
    "\n",
    "    finally:\n",
    "        if (sqliteConnection):\n",
    "            sqliteConnection.close()"
   ]
  },
  {
   "cell_type": "code",
   "execution_count": 28,
   "metadata": {},
   "outputs": [],
   "source": [
    "##################################################################\n",
    "# AUTO-ARIMA\n",
    "##################################################################\n",
    "\n",
    "def forecast_arima(df):\n",
    "\n",
    "    # DataFrame for Loop\n",
    "    dfloop = df.groupby(['prod_id'], as_index=False)['qtde'].count()\n",
    "    dfloop\n",
    "\n",
    "    previsoes = pd.DataFrame()\n",
    "    previsoes['prod_id'] = 1\n",
    "    previsoes['previsao'] = 2\n",
    "\n",
    "    #Iteract for product\n",
    "    for i, r in dfloop.iterrows():\n",
    "        # Filtrar Item_id em um novo DF\n",
    "        dffilter = df[df['prod_id'] == r['prod_id']]\n",
    "\n",
    "        # Se tiver mais que dois registros\n",
    "        if len(dffilter) > 2:\n",
    "            # preparar dados para ARIMA\n",
    "            history = pd.DataFrame()\n",
    "            history['date'] = pd.to_datetime(dffilter['date'],  format='%Y-%m-%d' )\n",
    "            history['qtde'] = dffilter['qtde']\n",
    "            history.set_index('date', inplace = True)\n",
    "\n",
    "            # AutoArima para ajustas parametros\n",
    "            stepwise_model = auto_arima(history, start_p=1, start_q=1,max_p=6, max_q=6, m=12, start_P=0, seasonal=True, d=1, D=0, trace=False, error_action='ignore',\n",
    "                                suppress_warnings=True, stepwise=True)\n",
    "\n",
    "            #Arima Previsão\n",
    "            stepwise_model.fit(history)\n",
    "            forecast = stepwise_model.predict(n_periods=1)\n",
    "\n",
    "            # Salvar previsão em DF\n",
    "            print(i+1,'/', len(dfloop) ,r['prod_id'], round(forecast[0],0))\n",
    "            print()\n",
    "            df1 = pd.DataFrame({'prod_id': r['prod_id'],  'previsao': [round(forecast[0],0)]})\n",
    "            previsoes = previsoes.append(df1)\n",
    "\n",
    "    return previsoes"
   ]
  },
  {
   "cell_type": "code",
   "execution_count": 32,
   "metadata": {},
   "outputs": [],
   "source": [
    "##################################################################\n",
    "# Prophet by facebook\n",
    "##################################################################\n",
    "\n",
    "def forecast_prophet(df):\n",
    "\n",
    "    # DataFrame for Loop\n",
    "    dfloop = df.groupby(['prod_id'], as_index=False)['qtde'].count()\n",
    "    dfloop\n",
    "\n",
    "    previsoes = pd.DataFrame()\n",
    "    previsoes['prod_id'] = 1\n",
    "    previsoes['previsao'] = 2\n",
    "\n",
    "    #Iteract for product\n",
    "    for i, r in dfloop.iterrows():\n",
    "        # Filtrar Item_id em um novo DF\n",
    "        dffilter = df[df['prod_id'] == r['prod_id']]\n",
    "\n",
    "        # Se tiver mais que dois registros\n",
    "        if len(dffilter) > 2:\n",
    "\n",
    "            # preparar dados para Prophet\n",
    "            pdataset = pd.DataFrame()\n",
    "            pdataset['ds'] = dffilter['date']\n",
    "            pdataset['y'] = dffilter['qtde']\n",
    "\n",
    "            #Prophet Previsão e forecast\n",
    "            prophet = Prophet(growth = 'linear',seasonality_mode='multiplicative' ,yearly_seasonality=False, weekly_seasonality=True, daily_seasonality=False)\n",
    "            prophet.fit(pdataset)\n",
    "            #future= prophet.make_future_dataframe(periods=1, freq='w', include_history=False)\n",
    "            forecast1 = {'ds': ['2020-04-20']}\n",
    "            future = pd.DataFrame (forecast1)\n",
    "            forecast=prophet.predict(future)\n",
    "\n",
    "            # Salvar previsão em DF\n",
    "            print(i+1,'/', len(dfloop) ,r['prod_id'], round(forecast['yhat'].sum(),0))\n",
    "            print()\n",
    "            df1 = pd.DataFrame({'prod_id': r['prod_id'],  'previsao': round(forecast['yhat'],0)})\n",
    "            previsoes = previsoes.append(df1)\n",
    "\n",
    "    return previsoes"
   ]
  },
  {
   "cell_type": "code",
   "execution_count": 25,
   "metadata": {},
   "outputs": [],
   "source": [
    "def forecast(df):\n",
    "    if FORECAST == 'arima':\n",
    "        return forecast_arima(df)\n",
    "    else:\n",
    "        return forecast_prophet(df)"
   ]
  },
  {
   "cell_type": "code",
   "execution_count": 26,
   "metadata": {},
   "outputs": [],
   "source": [
    "def cache(df, cpf, date_forecast):\n",
    "    for i, r in df.iterrows():\n",
    "        prod_id = r['prod_id']\n",
    "        previsao = r['previsao']\n",
    "   \n",
    "        try:\n",
    "            connection = PATH + DATABASE_CACHE\n",
    "            sqliteConnection = sqlite3.connect(connection)\n",
    "            cursor = sqliteConnection.cursor()\n",
    "            sql = \"INSERT INTO cache ('date', 'cpf', 'prod_id', 'forecast') VALUES ('\" + str(date_forecast) + \"', \"+ str(cpf) + \", \" + str(prod_id) + \", \" + str(previsao)+ \")\"\n",
    "            cursor.execute(sql)\n",
    "            sqliteConnection.commit()           \n",
    "\n",
    "        except sqlite3.Error as error:\n",
    "            logging.error( datetime.now + \"Crystalball \" + \"Failed to read data from sqlite table\")\n",
    "            return False\n",
    "        \n",
    "    sqliteConnection.close()\n",
    "    return True\n",
    "\n",
    "    "
   ]
  },
  {
   "cell_type": "code",
   "execution_count": 33,
   "metadata": {},
   "outputs": [
    {
     "output_type": "stream",
     "name": "stdout",
     "text": "1 / 11 101 1.0\n\n2 / 11 102 2.0\n\n3 / 11 104 4.0\n\n4 / 11 108 8.0\n\n5 / 11 109 9.0\n\n6 / 11 130 3.0\n\n7 / 11 200 0.0\n\n8 / 11 202 2.0\n\n9 / 11 300 0.0\n\n10 / 11 303 3.0\n\n11 / 11 304 4.0\n\n"
    },
    {
     "output_type": "execute_result",
     "data": {
      "text/plain": "True"
     },
     "metadata": {},
     "execution_count": 33
    }
   ],
   "source": [
    "\n",
    "df = get_history (CPF)\n",
    "previsoes = forecast(df)\n",
    "previsoes\n",
    "retorno = cache(previsoes, CPF, '2020-04-20')\n",
    "retorno"
   ]
  },
  {
   "cell_type": "code",
   "execution_count": null,
   "metadata": {},
   "outputs": [],
   "source": []
  }
 ],
 "metadata": {
  "kernelspec": {
   "display_name": "Python 3.7.6 64-bit ('dev_phyton': conda)",
   "language": "python",
   "name": "python37664bitdevphytoncondabb872b2576ae422ba49ed323e3d78565"
  },
  "language_info": {
   "codemirror_mode": {
    "name": "ipython",
    "version": 3
   },
   "file_extension": ".py",
   "mimetype": "text/x-python",
   "name": "python",
   "nbconvert_exporter": "python",
   "pygments_lexer": "ipython3",
   "version": "3.7.6-final"
  }
 },
 "nbformat": 4,
 "nbformat_minor": 4
}