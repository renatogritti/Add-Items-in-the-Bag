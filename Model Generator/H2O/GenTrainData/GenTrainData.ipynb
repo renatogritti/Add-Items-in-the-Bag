{
 "cells": [
  {
   "cell_type": "code",
   "execution_count": 1,
   "metadata": {},
   "outputs": [],
   "source": [
    "# Import Libraries\n",
    "\n",
    "import pandas as pd\n",
    "import numpy as np\n",
    "import sqlite3\n",
    "from datetime import datetime, timedelta, date\n",
    "from pmdarima.arima import auto_arima\n",
    "from fbprophet import Prophet"
   ]
  },
  {
   "cell_type": "code",
   "execution_count": 31,
   "metadata": {},
   "outputs": [],
   "source": [
    "# Create DF to Fill Empty Dates - Não Precisa\n",
    "\n",
    "def set_hour(date1):\n",
    "  day1 = datetime(date1.year, date1.month, date1.day,0,0,0)\n",
    "  return day1\n",
    "\n",
    "dftime = pd.DataFrame(pd.period_range(start=datetime(2019,11,4,0,0,0), periods=24, freq='7D1H', name = 'Date1'))\n",
    "dftime['date'] = dftime['Date1'].apply(lambda x: set_hour(x))\n",
    "dftime = dftime.drop('Date1', 1)\n",
    "dftime.set_index('date', inplace = True)"
   ]
  },
  {
   "cell_type": "code",
   "execution_count": 127,
   "metadata": {},
   "outputs": [],
   "source": [
    "# Connection data to Database\n",
    "\n",
    "PATH = '/Users/renato/Downloads/Crystalball/'\n",
    "DATABASE_MODEL = 'modelsample.db'\n",
    "MODEL_CSV = 'model.csv'\n",
    "DATABASE_HISTORY = 'history.db'\n",
    "DATABASE_CACHE = 'cache.db'\n",
    "USER = 'user'\n",
    "PASSWORD = 'password'\n",
    "PORT = '5432'\n",
    "HOST = '127.0.0.1'"
   ]
  },
  {
   "cell_type": "code",
   "execution_count": 33,
   "metadata": {},
   "outputs": [],
   "source": [
    "# Default Data\n",
    "\n",
    "CPF = '14566178854'"
   ]
  },
  {
   "cell_type": "code",
   "execution_count": 34,
   "metadata": {},
   "outputs": [],
   "source": [
    "def get_data(cpf):\n",
    "    try:\n",
    "        connection = PATH + DATABASE_MODEL\n",
    "        sqliteConnection = sqlite3.connect(connection)\n",
    "        cursor = sqliteConnection.cursor()\n",
    "        sqlite_select_query = \"\"\"SELECT * from modelsample where cpf = \"\"\" + cpf\n",
    "        cursor.execute(sqlite_select_query)\n",
    "        records = cursor.fetchall()\n",
    "        records = pd.DataFrame(records)\n",
    "        records.columns = ['cpf', 'date1', 'prod_id', 'qtde']\n",
    "        records['date'] =  pd.to_datetime(records['date1'],  format='%Y-%m-%d' )\n",
    "        records = records.drop('date1', 1)\n",
    "\n",
    "        cursor.close()\n",
    "        \n",
    "        return(records)\n",
    "\n",
    "    except sqlite3.Error as error:\n",
    "        print(\"Failed to read data from sqlite table\", error)\n",
    "    finally:\n",
    "        if (sqliteConnection):\n",
    "            sqliteConnection.close()"
   ]
  },
  {
   "cell_type": "code",
   "execution_count": 134,
   "metadata": {},
   "outputs": [],
   "source": [
    "# Feature Engineering\n",
    "\n",
    "def feature_engineering(df):\n",
    "\n",
    "    # DataFrame for Loop\n",
    "\n",
    "    dfloop = df.groupby(['prod_id'], as_index=False)['qtde'].count()\n",
    "    dfloop\n",
    "\n",
    "    data = pd.DataFrame()\n",
    "    data['qtde'] = 1\n",
    "    data['lag1'] = 2\n",
    "    data['lag2'] = 3\n",
    "    data['lag3'] = 4\n",
    "    data['lag4'] = 5\n",
    "    data['lag5'] = 6\n",
    "    data['lag6'] = 7\n",
    "    data['lag7'] = 8\n",
    "    data['lag8'] = 9\n",
    "                \n",
    "    \n",
    "    #Iteract for product\n",
    "    for i, r in dfloop.iterrows():\n",
    "        # Filtrar Item_id em um novo DF\n",
    "        dffilter = df[df['prod_id'] == r['prod_id']]\n",
    "\n",
    "        # merge data\n",
    "        dffilter['date1'] = dffilter['date']\n",
    "        dffilter.set_index('date', inplace = True)\n",
    "        dfmerge = pd.concat([dffilter,dftime], axis=1)\n",
    "        dfmerge['date1'] = dfmerge.index\n",
    "        dfmerge['cpf'] = CPF\n",
    "        dfmerge['prod_id'] = r['prod_id']\n",
    "        dfmerge = dfmerge.fillna(0)\n",
    "\n",
    "        \n",
    "        #Colocar lags\n",
    "        dfmerge['lag1'] = dfmerge.qtde.shift(1)\n",
    "        dfmerge['lag2'] = dfmerge.qtde.shift(2)\n",
    "        dfmerge['lag3'] = dfmerge.qtde.shift(3)\n",
    "        dfmerge['lag4'] = dfmerge.qtde.shift(4)\n",
    "        dfmerge['lag5'] = dfmerge.qtde.shift(5)\n",
    "        dfmerge['lag6'] = dfmerge.qtde.shift(6)\n",
    "        dfmerge['lag7'] = dfmerge.qtde.shift(7)\n",
    "        dfmerge['lag8'] = dfmerge.qtde.shift(8)\n",
    "        dfmerge = dfmerge.dropna()\n",
    "\n",
    "        \n",
    "        #Drop Columns\n",
    "        dfmerge = dfmerge.drop('cpf', 1)\n",
    "\n",
    "        # Salvar previsão em DF\n",
    "        data = data.append(dfmerge)\n",
    "\n",
    "    #Drop Columns\n",
    "    data = data.drop('prod_id', 1)\n",
    "    data = data.drop('date1', 1)\n",
    "\n",
    "\n",
    "    return data"
   ]
  },
  {
   "cell_type": "code",
   "execution_count": 135,
   "metadata": {},
   "outputs": [],
   "source": [
    "def save_data(df):\n",
    "    \n",
    "    file = PATH+MODEL_CSV\n",
    "    print(file)\n",
    "    \n",
    "    print(type(df))\n",
    "    \n",
    "    df.to_csv(PATH+MODEL_CSV, index = False, header=True)\n",
    "\n",
    "    return True\n",
    "\n",
    "    "
   ]
  },
  {
   "cell_type": "code",
   "execution_count": 136,
   "metadata": {},
   "outputs": [
    {
     "name": "stderr",
     "output_type": "stream",
     "text": [
      "/Volumes/Dados/Users/renato/anaconda3/envs/dev_phyton/lib/python3.7/site-packages/ipykernel_launcher.py:28: SettingWithCopyWarning:\n",
      "\n",
      "\n",
      "A value is trying to be set on a copy of a slice from a DataFrame.\n",
      "Try using .loc[row_indexer,col_indexer] = value instead\n",
      "\n",
      "See the caveats in the documentation: https://pandas.pydata.org/pandas-docs/stable/user_guide/indexing.html#returning-a-view-versus-a-copy\n",
      "\n"
     ]
    },
    {
     "name": "stdout",
     "output_type": "stream",
     "text": [
      "/Users/renato/Downloads/Crystalball/model.csv\n",
      "<class 'pandas.core.frame.DataFrame'>\n"
     ]
    }
   ],
   "source": [
    "\n",
    "df = get_data (CPF)\n",
    "engdata = feature_engineering(df)\n",
    "retorno = save_data(engdata)\n",
    "#retorno"
   ]
  },
  {
   "cell_type": "code",
   "execution_count": null,
   "metadata": {},
   "outputs": [],
   "source": []
  }
 ],
 "metadata": {
  "kernelspec": {
   "display_name": "Python 3",
   "language": "python",
   "name": "python3"
  },
  "language_info": {
   "codemirror_mode": {
    "name": "ipython",
    "version": 3
   },
   "file_extension": ".py",
   "mimetype": "text/x-python",
   "name": "python",
   "nbconvert_exporter": "python",
   "pygments_lexer": "ipython3",
   "version": "3.7.6"
  }
 },
 "nbformat": 4,
 "nbformat_minor": 4
}
